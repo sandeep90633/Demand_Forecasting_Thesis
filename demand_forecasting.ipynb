{
 "cells": [
  {
   "cell_type": "code",
   "execution_count": 14,
   "id": "b96fcf14-dc99-4679-9e7c-fce2563993da",
   "metadata": {},
   "outputs": [],
   "source": [
    "import pandas as pd\n",
    "import numpy as np\n",
    "import warnings\n",
    "from sklearn.metrics import mean_squared_error, r2_score\n",
    "\n",
    "warnings.filterwarnings('ignore')\n",
    "pd.set_option('display.float_format', '{:.2f}'.format)"
   ]
  },
  {
   "cell_type": "code",
   "execution_count": 15,
   "id": "81bc8aef",
   "metadata": {},
   "outputs": [],
   "source": [
    "sales = pd.read_csv(\"data/original_sales_data.csv\")"
   ]
  },
  {
   "cell_type": "code",
   "execution_count": 24,
   "id": "4300094a",
   "metadata": {},
   "outputs": [
    {
     "data": {
      "text/html": [
       "<div>\n",
       "<style scoped>\n",
       "    .dataframe tbody tr th:only-of-type {\n",
       "        vertical-align: middle;\n",
       "    }\n",
       "\n",
       "    .dataframe tbody tr th {\n",
       "        vertical-align: top;\n",
       "    }\n",
       "\n",
       "    .dataframe thead th {\n",
       "        text-align: right;\n",
       "    }\n",
       "</style>\n",
       "<table border=\"1\" class=\"dataframe\">\n",
       "  <thead>\n",
       "    <tr style=\"text-align: right;\">\n",
       "      <th></th>\n",
       "      <th>order_number</th>\n",
       "      <th>order_date</th>\n",
       "      <th>sku_id</th>\n",
       "      <th>warehouse_id</th>\n",
       "      <th>customer_type</th>\n",
       "      <th>order_quantity</th>\n",
       "      <th>unit_sale_price</th>\n",
       "      <th>revenue</th>\n",
       "      <th>Unnamed: 8</th>\n",
       "      <th>Unnamed: 9</th>\n",
       "      <th>Unnamed: 10</th>\n",
       "      <th>Unnamed: 11</th>\n",
       "      <th>Unnamed: 12</th>\n",
       "    </tr>\n",
       "  </thead>\n",
       "  <tbody>\n",
       "    <tr>\n",
       "      <th>0</th>\n",
       "      <td>SO - 018900</td>\n",
       "      <td>01-Jan-21</td>\n",
       "      <td>3551CA</td>\n",
       "      <td>GUT930</td>\n",
       "      <td>Export</td>\n",
       "      <td>105.00</td>\n",
       "      <td>7.07</td>\n",
       "      <td>742</td>\n",
       "      <td>NaN</td>\n",
       "      <td>NaN</td>\n",
       "      <td>NaN</td>\n",
       "      <td>NaN</td>\n",
       "      <td>NaN</td>\n",
       "    </tr>\n",
       "    <tr>\n",
       "      <th>1</th>\n",
       "      <td>SO - 018901</td>\n",
       "      <td>01-Jan-21</td>\n",
       "      <td>3079BA</td>\n",
       "      <td>AXW291</td>\n",
       "      <td>Wholesale</td>\n",
       "      <td>151.00</td>\n",
       "      <td>134.50</td>\n",
       "      <td>20310</td>\n",
       "      <td>NaN</td>\n",
       "      <td>NaN</td>\n",
       "      <td>NaN</td>\n",
       "      <td>NaN</td>\n",
       "      <td>NaN</td>\n",
       "    </tr>\n",
       "    <tr>\n",
       "      <th>2</th>\n",
       "      <td>SO - 018902</td>\n",
       "      <td>01-Jan-21</td>\n",
       "      <td>3250CA</td>\n",
       "      <td>AXW291</td>\n",
       "      <td>Distributor</td>\n",
       "      <td>300.00</td>\n",
       "      <td>34.75</td>\n",
       "      <td>10426</td>\n",
       "      <td>NaN</td>\n",
       "      <td>NaN</td>\n",
       "      <td>NaN</td>\n",
       "      <td>NaN</td>\n",
       "      <td>NaN</td>\n",
       "    </tr>\n",
       "    <tr>\n",
       "      <th>3</th>\n",
       "      <td>SO - 018903</td>\n",
       "      <td>01-Jan-21</td>\n",
       "      <td>1161AA</td>\n",
       "      <td>GUT930</td>\n",
       "      <td>Wholesale</td>\n",
       "      <td>50.00</td>\n",
       "      <td>136.59</td>\n",
       "      <td>6830</td>\n",
       "      <td>NaN</td>\n",
       "      <td>NaN</td>\n",
       "      <td>NaN</td>\n",
       "      <td>NaN</td>\n",
       "      <td>NaN</td>\n",
       "    </tr>\n",
       "    <tr>\n",
       "      <th>4</th>\n",
       "      <td>SO - 018904</td>\n",
       "      <td>01-Jan-21</td>\n",
       "      <td>3512AA</td>\n",
       "      <td>GUT930</td>\n",
       "      <td>Distributor</td>\n",
       "      <td>1000.00</td>\n",
       "      <td>0.10</td>\n",
       "      <td>103</td>\n",
       "      <td>NaN</td>\n",
       "      <td>NaN</td>\n",
       "      <td>NaN</td>\n",
       "      <td>NaN</td>\n",
       "      <td>NaN</td>\n",
       "    </tr>\n",
       "  </tbody>\n",
       "</table>\n",
       "</div>"
      ],
      "text/plain": [
       "  order_number  order_date  sku_id warehouse_id customer_type  order_quantity  \\\n",
       "0   SO - 018900  01-Jan-21  3551CA       GUT930        Export          105.00   \n",
       "1   SO - 018901  01-Jan-21  3079BA       AXW291     Wholesale          151.00   \n",
       "2   SO - 018902  01-Jan-21  3250CA       AXW291   Distributor          300.00   \n",
       "3   SO - 018903  01-Jan-21  1161AA       GUT930     Wholesale           50.00   \n",
       "4   SO - 018904  01-Jan-21  3512AA       GUT930   Distributor         1000.00   \n",
       "\n",
       "   unit_sale_price  revenue  Unnamed: 8  Unnamed: 9  Unnamed: 10  Unnamed: 11  \\\n",
       "0             7.07      742         NaN         NaN          NaN          NaN   \n",
       "1           134.50    20310         NaN         NaN          NaN          NaN   \n",
       "2            34.75    10426         NaN         NaN          NaN          NaN   \n",
       "3           136.59     6830         NaN         NaN          NaN          NaN   \n",
       "4             0.10      103         NaN         NaN          NaN          NaN   \n",
       "\n",
       "   Unnamed: 12  \n",
       "0          NaN  \n",
       "1          NaN  \n",
       "2          NaN  \n",
       "3          NaN  \n",
       "4          NaN  "
      ]
     },
     "execution_count": 24,
     "metadata": {},
     "output_type": "execute_result"
    }
   ],
   "source": [
    "sales.head()"
   ]
  },
  {
   "cell_type": "markdown",
   "id": "7445bc8f",
   "metadata": {},
   "source": [
    "#####Include customer_type and warehouse_id to the training data they might add some weightage to improve the accuracy of the model."
   ]
  },
  {
   "cell_type": "code",
   "execution_count": 16,
   "id": "51b95b82",
   "metadata": {},
   "outputs": [],
   "source": [
    "sales_data_cleaned = sales.loc[:, ~sales.columns.str.startswith('Unnamed')]\n",
    "\n",
    "sales_data_cleaned['order_date'] = pd.to_datetime(sales_data_cleaned['order_date'], format='%d-%b-%y')"
   ]
  },
  {
   "cell_type": "code",
   "execution_count": 17,
   "id": "b79ee1eb",
   "metadata": {},
   "outputs": [],
   "source": [
    "sku_daily_sales = sales_data_cleaned.groupby(['order_date', 'sku_id'])['order_quantity'].sum().reset_index()\n",
    "\n",
    "sku_daily_sales = sku_daily_sales.sort_values(by=['sku_id', 'order_date'])\n",
    "\n",
    "# Feature Engineering:\n",
    "sku_daily_sales['lag_1'] = sku_daily_sales.groupby('sku_id')['order_quantity'].shift(1)\n",
    "sku_daily_sales['lag_7'] = sku_daily_sales.groupby('sku_id')['order_quantity'].shift(7)\n",
    "sku_daily_sales['rolling_avg_7_days'] = sku_daily_sales.groupby('sku_id')['order_quantity'].transform(lambda x: x.rolling(window=7).mean())\n",
    "sku_daily_sales['cumulative_sum'] = sku_daily_sales.groupby('sku_id')['order_quantity'].cumsum()\n",
    "sku_daily_sales['year'] = sku_daily_sales['order_date'].dt.year\n",
    "sku_daily_sales['month'] = sku_daily_sales['order_date'].dt.month\n",
    "sku_daily_sales['day_of_week'] = sku_daily_sales['order_date'].dt.dayofweek\n",
    "\n",
    "# Drop rows with NaN values caused by lagging and rolling calculations\n",
    "sku_daily_sales = sku_daily_sales.dropna(subset=['lag_1', 'lag_7', 'rolling_avg_7_days', 'cumulative_sum'])"
   ]
  },
  {
   "cell_type": "code",
   "execution_count": 18,
   "id": "5f22ecd8",
   "metadata": {},
   "outputs": [],
   "source": [
    "# Split data temporally: Use last 20% of dates as the test set\n",
    "split_date_filtered = sku_daily_sales['order_date'].quantile(0.8)\n",
    "train_data_filtered = sku_daily_sales[sku_daily_sales['order_date'] <= split_date_filtered]\n",
    "test_data_filtered = sku_daily_sales[sku_daily_sales['order_date'] > split_date_filtered]\n",
    "\n",
    "# Separate features and target for train and test sets\n",
    "X_train_original = train_data_filtered[['lag_1', 'lag_7', 'rolling_avg_7_days', 'cumulative_sum', 'year', 'month', 'day_of_week']]\n",
    "y_train_original = train_data_filtered['order_quantity']\n",
    "X_test_original = test_data_filtered[['lag_1', 'lag_7', 'rolling_avg_7_days', 'cumulative_sum', 'year', 'month', 'day_of_week']]\n",
    "y_test_original = test_data_filtered['order_quantity']"
   ]
  },
  {
   "cell_type": "code",
   "execution_count": 19,
   "id": "10204ac5",
   "metadata": {},
   "outputs": [
    {
     "name": "stdout",
     "output_type": "stream",
     "text": [
      "Fitting 3 folds for each of 81 candidates, totalling 243 fits\n"
     ]
    },
    {
     "data": {
      "text/plain": [
       "({'max_depth': 10,\n",
       "  'min_samples_leaf': 2,\n",
       "  'min_samples_split': 10,\n",
       "  'n_estimators': 300},\n",
       " np.float64(3169267.57223538))"
      ]
     },
     "execution_count": 19,
     "metadata": {},
     "output_type": "execute_result"
    }
   ],
   "source": [
    "from sklearn.model_selection import GridSearchCV\n",
    "from sklearn.ensemble import RandomForestRegressor\n",
    "\n",
    "# Define the hyperparameter grid for Random Forest\n",
    "param_grid = {\n",
    "    'n_estimators': [100, 200, 300],  # Number of trees\n",
    "    'max_depth': [10, 20, None],      # Maximum depth of the tree\n",
    "    'min_samples_split': [2, 5, 10],  # Minimum samples required to split a node\n",
    "    'min_samples_leaf': [1, 2, 4]     # Minimum samples required in a leaf node\n",
    "}\n",
    "\n",
    "# Initialize the Random Forest model\n",
    "rf_model = RandomForestRegressor(random_state=42)\n",
    "\n",
    "# Perform Grid Search with cross-validation\n",
    "grid_search = GridSearchCV(estimator=rf_model, param_grid=param_grid, cv=3, scoring='neg_mean_squared_error', verbose=1, n_jobs=-1)\n",
    "grid_search.fit(X_train_original, y_train_original)\n",
    "\n",
    "# Best parameters and performance\n",
    "best_params = grid_search.best_params_\n",
    "best_score = -grid_search.best_score_  # Convert from negative MSE to MSE\n",
    "\n",
    "best_params, best_score\n"
   ]
  },
  {
   "cell_type": "markdown",
   "id": "3141f196",
   "metadata": {},
   "source": [
    "({'max_depth': 10,\n",
    "  'min_samples_leaf': 2,\n",
    "  'min_samples_split': 10,\n",
    "  'n_estimators': 300},\n",
    " np.float64(3169267.57223538))"
   ]
  },
  {
   "cell_type": "code",
   "execution_count": 20,
   "id": "c17cae62",
   "metadata": {},
   "outputs": [
    {
     "data": {
      "text/plain": [
       "(np.float64(2650096.7426475133),\n",
       " np.float64(1627.911773606762),\n",
       " 0.6288450420709688)"
      ]
     },
     "execution_count": 20,
     "metadata": {},
     "output_type": "execute_result"
    }
   ],
   "source": [
    "# Train a Random Forest model\n",
    "rf_model = RandomForestRegressor(random_state=42, n_estimators=100, max_depth=10, min_samples_leaf=2, min_samples_split=10)\n",
    "rf_model.fit(X_train_original, y_train_original)\n",
    "\n",
    "# Predict on the test set\n",
    "rf_predictions = rf_model.predict(X_test_original)\n",
    "\n",
    "# Evaluate the model\n",
    "rf_mse = mean_squared_error(y_test_original, rf_predictions)\n",
    "rf_rmse = np.sqrt(rf_mse)\n",
    "rf_r2 = r2_score(y_test_original, rf_predictions)\n",
    "\n",
    "rf_mse, rf_rmse, rf_r2"
   ]
  },
  {
   "cell_type": "code",
   "execution_count": 21,
   "id": "97a39c79",
   "metadata": {},
   "outputs": [
    {
     "name": "stdout",
     "output_type": "stream",
     "text": [
      "Fitting 3 folds for each of 50 candidates, totalling 150 fits\n"
     ]
    },
    {
     "data": {
      "text/plain": [
       "({'subsample': 0.8,\n",
       "  'n_estimators': 200,\n",
       "  'max_depth': 3,\n",
       "  'learning_rate': 0.05,\n",
       "  'gamma': 0,\n",
       "  'colsample_bytree': 0.8},\n",
       " np.float64(3222520.287230836))"
      ]
     },
     "execution_count": 21,
     "metadata": {},
     "output_type": "execute_result"
    }
   ],
   "source": [
    "from sklearn.model_selection import RandomizedSearchCV\n",
    "from xgboost import XGBRegressor\n",
    "\n",
    "# Define the hyperparameter grid for XGBoost\n",
    "param_grid_xgb = {\n",
    "    'n_estimators': [100, 200, 300, 400],          # Number of boosting rounds\n",
    "    'max_depth': [3, 5, 7, 10],                   # Maximum tree depth\n",
    "    'learning_rate': [0.01, 0.05, 0.1, 0.2],      # Step size for weight updates\n",
    "    'subsample': [0.6, 0.8, 1.0],                 # Fraction of samples used for training each tree\n",
    "    'colsample_bytree': [0.6, 0.8, 1.0],          # Fraction of features considered for each split\n",
    "    'gamma': [0, 1, 5]                            # Minimum loss reduction required to make a split\n",
    "}\n",
    "\n",
    "# Initialize the XGBoost model\n",
    "xgb_model = XGBRegressor(random_state=42, objective='reg:squarederror')\n",
    "\n",
    "# Perform Randomized Search with cross-validation\n",
    "random_search_xgb = RandomizedSearchCV(\n",
    "    estimator=xgb_model,\n",
    "    param_distributions=param_grid_xgb,\n",
    "    n_iter=50,  # Number of parameter combinations to try\n",
    "    cv=3,       # 3-fold cross-validation\n",
    "    scoring='neg_mean_squared_error',\n",
    "    verbose=1,\n",
    "    n_jobs=-1,\n",
    "    random_state=42\n",
    ")\n",
    "\n",
    "# Fit the model to the training data\n",
    "random_search_xgb.fit(X_train_original, y_train_original)\n",
    "\n",
    "# Best parameters and performance\n",
    "best_params_xgb = random_search_xgb.best_params_\n",
    "best_score_xgb = -random_search_xgb.best_score_  # Convert from negative MSE to MSE\n",
    "\n",
    "best_params_xgb, best_score_xgb\n"
   ]
  },
  {
   "cell_type": "markdown",
   "id": "2244fcd9",
   "metadata": {},
   "source": [
    "({'subsample': 0.8,\n",
    "  'n_estimators': 200,\n",
    "  'max_depth': 3,\n",
    "  'learning_rate': 0.05,\n",
    "  'gamma': 0,\n",
    "  'colsample_bytree': 0.8},\n",
    " np.float64(3222520.287230836))"
   ]
  },
  {
   "cell_type": "code",
   "execution_count": 23,
   "id": "802470ba",
   "metadata": {},
   "outputs": [
    {
     "data": {
      "text/plain": [
       "(np.float64(2821763.2521880954),\n",
       " np.float64(1679.8104810329335),\n",
       " 0.6048025702996532)"
      ]
     },
     "execution_count": 23,
     "metadata": {},
     "output_type": "execute_result"
    }
   ],
   "source": [
    "\n",
    "from xgboost import XGBRegressor\n",
    "\n",
    "xgb_model_original = XGBRegressor(random_state=42, n_estimators=200, learning_rate=0.03, subsample=0.8, max_depth= 3, gamma= 0, colsample_bytree=0.8)\n",
    "xgb_model_original.fit(X_train_original, y_train_original)\n",
    "\n",
    "# Predict on the test set\n",
    "xgb_predictions_original_scale = xgb_model_original.predict(X_test_original)\n",
    "\n",
    "# Evaluate the XGBoost model in the original scale\n",
    "xgb_mse_no_log = mean_squared_error(y_test_original, xgb_predictions_original_scale)\n",
    "xgb_rmse_no_log = np.sqrt(xgb_mse_no_log)\n",
    "xgb_r2_no_log = r2_score(y_test_original, xgb_predictions_original_scale)\n",
    "\n",
    "xgb_mse_no_log, xgb_rmse_no_log, xgb_r2_no_log\n"
   ]
  },
  {
   "cell_type": "code",
   "execution_count": 18,
   "id": "e4886de8-104f-4baa-9af2-0b42eaa83eff",
   "metadata": {},
   "outputs": [],
   "source": []
  }
 ],
 "metadata": {
  "kernelspec": {
   "display_name": "Python 3 (ipykernel)",
   "language": "python",
   "name": "python3"
  },
  "language_info": {
   "codemirror_mode": {
    "name": "ipython",
    "version": 3
   },
   "file_extension": ".py",
   "mimetype": "text/x-python",
   "name": "python",
   "nbconvert_exporter": "python",
   "pygments_lexer": "ipython3",
   "version": "3.12.7"
  }
 },
 "nbformat": 4,
 "nbformat_minor": 5
}
