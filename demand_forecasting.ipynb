{
 "cells": [
  {
   "cell_type": "code",
   "execution_count": 13,
   "id": "b96fcf14-dc99-4679-9e7c-fce2563993da",
   "metadata": {},
   "outputs": [],
   "source": [
    "import pandas as pd\n",
    "import warnings\n",
    "import pickle\n",
    "from sklearn.preprocessing import OneHotEncoder\n",
    "from sklearn.model_selection import train_test_split\n",
    "import xgboost as xgb\n",
    "from sklearn.metrics import mean_squared_error, r2_score\n",
    "import matplotlib.pyplot as plt\n",
    "\n",
    "warnings.filterwarnings('ignore')\n",
    "pd.set_option('display.float_format', '{:.2f}'.format)"
   ]
  },
  {
   "cell_type": "code",
   "execution_count": 14,
   "id": "81bc8aef",
   "metadata": {},
   "outputs": [],
   "source": [
    "sales = pd.read_csv(\"data/sales_data.csv\")"
   ]
  },
  {
   "cell_type": "code",
   "execution_count": 15,
   "id": "4f57a7a3",
   "metadata": {},
   "outputs": [
    {
     "data": {
      "text/html": [
       "<div>\n",
       "<style scoped>\n",
       "    .dataframe tbody tr th:only-of-type {\n",
       "        vertical-align: middle;\n",
       "    }\n",
       "\n",
       "    .dataframe tbody tr th {\n",
       "        vertical-align: top;\n",
       "    }\n",
       "\n",
       "    .dataframe thead th {\n",
       "        text-align: right;\n",
       "    }\n",
       "</style>\n",
       "<table border=\"1\" class=\"dataframe\">\n",
       "  <thead>\n",
       "    <tr style=\"text-align: right;\">\n",
       "      <th></th>\n",
       "      <th>order_number</th>\n",
       "      <th>order_date</th>\n",
       "      <th>sku_id</th>\n",
       "      <th>warehouse_id</th>\n",
       "      <th>customer_type</th>\n",
       "      <th>order_quantity</th>\n",
       "      <th>unit_sale_price</th>\n",
       "      <th>revenue</th>\n",
       "      <th>adjusted_order_quantity</th>\n",
       "    </tr>\n",
       "  </thead>\n",
       "  <tbody>\n",
       "    <tr>\n",
       "      <th>0</th>\n",
       "      <td>SO - 018900</td>\n",
       "      <td>2021-01-01</td>\n",
       "      <td>3551CA</td>\n",
       "      <td>GUT930</td>\n",
       "      <td>Export</td>\n",
       "      <td>105.00</td>\n",
       "      <td>7.07</td>\n",
       "      <td>742</td>\n",
       "      <td>105.00</td>\n",
       "    </tr>\n",
       "    <tr>\n",
       "      <th>1</th>\n",
       "      <td>SO - 018901</td>\n",
       "      <td>2021-01-01</td>\n",
       "      <td>3079BA</td>\n",
       "      <td>AXW291</td>\n",
       "      <td>Wholesale</td>\n",
       "      <td>128.00</td>\n",
       "      <td>134.50</td>\n",
       "      <td>20310</td>\n",
       "      <td>128.00</td>\n",
       "    </tr>\n",
       "    <tr>\n",
       "      <th>2</th>\n",
       "      <td>SO - 018902</td>\n",
       "      <td>2021-01-01</td>\n",
       "      <td>3250CA</td>\n",
       "      <td>AXW291</td>\n",
       "      <td>Distributor</td>\n",
       "      <td>185.33</td>\n",
       "      <td>34.75</td>\n",
       "      <td>10426</td>\n",
       "      <td>185.33</td>\n",
       "    </tr>\n",
       "    <tr>\n",
       "      <th>3</th>\n",
       "      <td>SO - 018903</td>\n",
       "      <td>2021-01-01</td>\n",
       "      <td>1161AA</td>\n",
       "      <td>GUT930</td>\n",
       "      <td>Wholesale</td>\n",
       "      <td>167.00</td>\n",
       "      <td>136.59</td>\n",
       "      <td>6830</td>\n",
       "      <td>167.00</td>\n",
       "    </tr>\n",
       "    <tr>\n",
       "      <th>4</th>\n",
       "      <td>SO - 018904</td>\n",
       "      <td>2021-01-01</td>\n",
       "      <td>3512AA</td>\n",
       "      <td>GUT930</td>\n",
       "      <td>Distributor</td>\n",
       "      <td>450.00</td>\n",
       "      <td>0.10</td>\n",
       "      <td>103</td>\n",
       "      <td>450.00</td>\n",
       "    </tr>\n",
       "  </tbody>\n",
       "</table>\n",
       "</div>"
      ],
      "text/plain": [
       "  order_number  order_date  sku_id warehouse_id customer_type  order_quantity  \\\n",
       "0  SO - 018900  2021-01-01  3551CA       GUT930        Export          105.00   \n",
       "1  SO - 018901  2021-01-01  3079BA       AXW291     Wholesale          128.00   \n",
       "2  SO - 018902  2021-01-01  3250CA       AXW291   Distributor          185.33   \n",
       "3  SO - 018903  2021-01-01  1161AA       GUT930     Wholesale          167.00   \n",
       "4  SO - 018904  2021-01-01  3512AA       GUT930   Distributor          450.00   \n",
       "\n",
       "   unit_sale_price  revenue  adjusted_order_quantity  \n",
       "0             7.07      742                   105.00  \n",
       "1           134.50    20310                   128.00  \n",
       "2            34.75    10426                   185.33  \n",
       "3           136.59     6830                   167.00  \n",
       "4             0.10      103                   450.00  "
      ]
     },
     "execution_count": 15,
     "metadata": {},
     "output_type": "execute_result"
    }
   ],
   "source": [
    "sales.head()"
   ]
  },
  {
   "cell_type": "code",
   "execution_count": 16,
   "id": "a1ca74dc-99a4-4d6e-9ef4-62cd8ded3345",
   "metadata": {},
   "outputs": [],
   "source": [
    "sales['order_date'] = pd.to_datetime(sales['order_date'])\n",
    "sales = sales.loc[:, ~sales.columns.str.startswith('Unnamed')]\n",
    "sales=sales[sales['order_date']<\"2022-12-31\"]\n",
    "sales = sales.set_index('order_date')"
   ]
  },
  {
   "cell_type": "code",
   "execution_count": 17,
   "id": "cb7e98eb",
   "metadata": {},
   "outputs": [
    {
     "data": {
      "text/html": [
       "<div>\n",
       "<style scoped>\n",
       "    .dataframe tbody tr th:only-of-type {\n",
       "        vertical-align: middle;\n",
       "    }\n",
       "\n",
       "    .dataframe tbody tr th {\n",
       "        vertical-align: top;\n",
       "    }\n",
       "\n",
       "    .dataframe thead th {\n",
       "        text-align: right;\n",
       "    }\n",
       "</style>\n",
       "<table border=\"1\" class=\"dataframe\">\n",
       "  <thead>\n",
       "    <tr style=\"text-align: right;\">\n",
       "      <th></th>\n",
       "      <th>order_number</th>\n",
       "      <th>sku_id</th>\n",
       "      <th>warehouse_id</th>\n",
       "      <th>customer_type</th>\n",
       "      <th>order_quantity</th>\n",
       "      <th>unit_sale_price</th>\n",
       "      <th>revenue</th>\n",
       "      <th>adjusted_order_quantity</th>\n",
       "    </tr>\n",
       "    <tr>\n",
       "      <th>order_date</th>\n",
       "      <th></th>\n",
       "      <th></th>\n",
       "      <th></th>\n",
       "      <th></th>\n",
       "      <th></th>\n",
       "      <th></th>\n",
       "      <th></th>\n",
       "      <th></th>\n",
       "    </tr>\n",
       "  </thead>\n",
       "  <tbody>\n",
       "    <tr>\n",
       "      <th>2021-01-01</th>\n",
       "      <td>SO - 018900</td>\n",
       "      <td>3551CA</td>\n",
       "      <td>GUT930</td>\n",
       "      <td>Export</td>\n",
       "      <td>105.00</td>\n",
       "      <td>7.07</td>\n",
       "      <td>742</td>\n",
       "      <td>105.00</td>\n",
       "    </tr>\n",
       "    <tr>\n",
       "      <th>2021-01-01</th>\n",
       "      <td>SO - 018901</td>\n",
       "      <td>3079BA</td>\n",
       "      <td>AXW291</td>\n",
       "      <td>Wholesale</td>\n",
       "      <td>128.00</td>\n",
       "      <td>134.50</td>\n",
       "      <td>20310</td>\n",
       "      <td>128.00</td>\n",
       "    </tr>\n",
       "    <tr>\n",
       "      <th>2021-01-01</th>\n",
       "      <td>SO - 018902</td>\n",
       "      <td>3250CA</td>\n",
       "      <td>AXW291</td>\n",
       "      <td>Distributor</td>\n",
       "      <td>185.33</td>\n",
       "      <td>34.75</td>\n",
       "      <td>10426</td>\n",
       "      <td>185.33</td>\n",
       "    </tr>\n",
       "    <tr>\n",
       "      <th>2021-01-01</th>\n",
       "      <td>SO - 018903</td>\n",
       "      <td>1161AA</td>\n",
       "      <td>GUT930</td>\n",
       "      <td>Wholesale</td>\n",
       "      <td>167.00</td>\n",
       "      <td>136.59</td>\n",
       "      <td>6830</td>\n",
       "      <td>167.00</td>\n",
       "    </tr>\n",
       "    <tr>\n",
       "      <th>2021-01-01</th>\n",
       "      <td>SO - 018904</td>\n",
       "      <td>3512AA</td>\n",
       "      <td>GUT930</td>\n",
       "      <td>Distributor</td>\n",
       "      <td>450.00</td>\n",
       "      <td>0.10</td>\n",
       "      <td>103</td>\n",
       "      <td>450.00</td>\n",
       "    </tr>\n",
       "  </tbody>\n",
       "</table>\n",
       "</div>"
      ],
      "text/plain": [
       "           order_number  sku_id warehouse_id customer_type  order_quantity  \\\n",
       "order_date                                                                   \n",
       "2021-01-01  SO - 018900  3551CA       GUT930        Export          105.00   \n",
       "2021-01-01  SO - 018901  3079BA       AXW291     Wholesale          128.00   \n",
       "2021-01-01  SO - 018902  3250CA       AXW291   Distributor          185.33   \n",
       "2021-01-01  SO - 018903  1161AA       GUT930     Wholesale          167.00   \n",
       "2021-01-01  SO - 018904  3512AA       GUT930   Distributor          450.00   \n",
       "\n",
       "            unit_sale_price  revenue  adjusted_order_quantity  \n",
       "order_date                                                     \n",
       "2021-01-01             7.07      742                   105.00  \n",
       "2021-01-01           134.50    20310                   128.00  \n",
       "2021-01-01            34.75    10426                   185.33  \n",
       "2021-01-01           136.59     6830                   167.00  \n",
       "2021-01-01             0.10      103                   450.00  "
      ]
     },
     "execution_count": 17,
     "metadata": {},
     "output_type": "execute_result"
    }
   ],
   "source": [
    "sales.head()"
   ]
  },
  {
   "cell_type": "code",
   "execution_count": 18,
   "id": "e4886de8-104f-4baa-9af2-0b42eaa83eff",
   "metadata": {},
   "outputs": [],
   "source": [
    "def create_time_series_features(df: pd.DataFrame):\n",
    "    features = {\n",
    "        'quarter': df.index.quarter,\n",
    "        'day_of_week': df.index.dayofweek,\n",
    "        'date_and_month': df.index.strftime('%m %b'),\n",
    "        'month': df.index.month,\n",
    "        'year': df.index.year,\n",
    "        'day_of_month': df.index.day,\n",
    "        'week_of_year': df.index.isocalendar().week\n",
    "    }\n",
    "\n",
    "    for feature_name, feature_values in features.items():\n",
    "        df[feature_name] = feature_values\n",
    "\n",
    "    return df\n",
    "\n",
    "sales = create_time_series_features(sales)"
   ]
  },
  {
   "cell_type": "code",
   "execution_count": 19,
   "id": "45cc4ba2-6f4d-477c-a9a6-276a39fb3a59",
   "metadata": {},
   "outputs": [],
   "source": [
    "split_date = '2022-08-31'\n",
    "\n",
    "train = sales.loc[sales.index < split_date]\n",
    "test = sales.loc[sales.index >= split_date]"
   ]
  },
  {
   "cell_type": "markdown",
   "id": "443254cd-6e85-4c6d-a960-cf6e574318f1",
   "metadata": {},
   "source": [
    "Filter the attributes that are needed for training and testing:"
   ]
  },
  {
   "cell_type": "code",
   "execution_count": 21,
   "id": "f5f0ebde-712d-4d0a-b7c2-1d53fe2fdccf",
   "metadata": {},
   "outputs": [],
   "source": [
    "training_filtered_sales_data = train[['sku_id','customer_type','day_of_month','day_of_week','month','quarter','year','week_of_year','order_quantity']]\n",
    "testing_filtered_sales_data = test[['sku_id','customer_type','day_of_month','day_of_week','month','quarter','year','week_of_year','order_quantity']]"
   ]
  },
  {
   "cell_type": "code",
   "execution_count": 22,
   "id": "c42bfcaf-af73-4c10-833b-8aed29440622",
   "metadata": {},
   "outputs": [],
   "source": [
    "def oneHotEncoding(df, index_column):\n",
    "    df=df.set_index(index_column)\n",
    "    \n",
    "    categorical_cols = df.select_dtypes(include=['object']).columns.tolist()\n",
    "\n",
    "    encoder = OneHotEncoder(sparse_output=False)\n",
    "    one_hot_encoded_categorical = encoder.fit_transform(df[categorical_cols])\n",
    "    one_hot_df = pd.DataFrame(one_hot_encoded_categorical, columns=encoder.get_feature_names_out(categorical_cols))\n",
    "    \n",
    "    one_hot_encoded = pd.concat([df.reset_index(),one_hot_df], axis=1)\n",
    "    one_hot_encoded = one_hot_encoded.drop(categorical_cols, axis=1)\n",
    "    df = one_hot_encoded.set_index(index_column)\n",
    "\n",
    "    return df"
   ]
  },
  {
   "cell_type": "code",
   "execution_count": 23,
   "id": "c9b11106-87a0-42a3-8a4f-04d98b013a74",
   "metadata": {},
   "outputs": [],
   "source": [
    "training_sales_encoded = oneHotEncoding(training_filtered_sales_data, 'sku_id')\n",
    "testing_sales_encoded = oneHotEncoding(testing_filtered_sales_data, 'sku_id')"
   ]
  },
  {
   "cell_type": "code",
   "execution_count": 24,
   "id": "574299de-426d-46b0-95f4-eaa3e1b16f35",
   "metadata": {},
   "outputs": [],
   "source": [
    "features = training_sales_encoded.columns.values.tolist()\n",
    "features.remove('order_quantity')\n",
    "target = 'order_quantity'"
   ]
  },
  {
   "cell_type": "code",
   "execution_count": 25,
   "id": "a26ee41a-bc1e-4245-8f13-1a0fec047776",
   "metadata": {},
   "outputs": [],
   "source": [
    "X_train = training_sales_encoded[features]\n",
    "y_train = training_sales_encoded[target]\n",
    "\n",
    "X_test = testing_sales_encoded[features]\n",
    "y_test = testing_sales_encoded[target]"
   ]
  },
  {
   "cell_type": "code",
   "execution_count": 29,
   "id": "87b02fba",
   "metadata": {},
   "outputs": [
    {
     "name": "stdout",
     "output_type": "stream",
     "text": [
      "Mean Squared Error: 2187917.95052384\n",
      "R^2 Score: -0.09932309221989821\n"
     ]
    }
   ],
   "source": [
    "from sklearn.ensemble import RandomForestRegressor\n",
    "from sklearn.model_selection import train_test_split, GridSearchCV\n",
    "from sklearn.metrics import mean_squared_error, r2_score\n",
    "from sklearn.preprocessing import StandardScaler\n",
    "\n",
    "# Standardize features\n",
    "scaler = StandardScaler()\n",
    "X_train = scaler.fit_transform(X_train)\n",
    "X_test = scaler.transform(X_test)\n",
    "\n",
    "# Initialize the Random Forest Regressor with hyperparameter tuning\n",
    "param_grid = {\n",
    "    'n_estimators': [100, 200],\n",
    "    'max_depth': [None, 10, 20],\n",
    "    'min_samples_split': [2, 5],\n",
    "}\n",
    "\n",
    "grid_search = GridSearchCV(RandomForestRegressor(random_state=42), param_grid, cv=5)\n",
    "grid_search.fit(X_train, y_train)\n",
    "\n",
    "# Best model from grid search\n",
    "best_model = grid_search.best_estimator_\n",
    "\n",
    "# Make predictions on the test set\n",
    "y_pred = best_model.predict(X_test)\n",
    "\n",
    "# Calculate accuracy metrics\n",
    "mse = mean_squared_error(y_test, y_pred)\n",
    "r2 = r2_score(y_test, y_pred)\n",
    "\n",
    "print(f'Mean Squared Error: {mse}')\n",
    "print(f'R^2 Score: {r2}')"
   ]
  },
  {
   "cell_type": "code",
   "execution_count": 31,
   "id": "2a783341",
   "metadata": {},
   "outputs": [
    {
     "name": "stdout",
     "output_type": "stream",
     "text": [
      "Downloading from https://www.kaggle.com/api/v1/datasets/download/shashanks1202/retail-transactions-online-sales-dataset?dataset_version_number=1...\n"
     ]
    },
    {
     "name": "stderr",
     "output_type": "stream",
     "text": [
      "100%|██████████| 43.3M/43.3M [00:03<00:00, 11.4MB/s]"
     ]
    },
    {
     "name": "stdout",
     "output_type": "stream",
     "text": [
      "Extracting files...\n"
     ]
    },
    {
     "name": "stderr",
     "output_type": "stream",
     "text": [
      "\n"
     ]
    },
    {
     "name": "stdout",
     "output_type": "stream",
     "text": [
      "Path to dataset files: C:\\Users\\JASWANTH REDDY\\.cache\\kagglehub\\datasets\\shashanks1202\\retail-transactions-online-sales-dataset\\versions\\1\n"
     ]
    }
   ],
   "source": [
    "import kagglehub\n",
    "\n",
    "# Download latest version\n",
    "path = kagglehub.dataset_download(\"shashanks1202/retail-transactions-online-sales-dataset\")\n",
    "\n",
    "print(\"Path to dataset files:\", path)"
   ]
  },
  {
   "cell_type": "code",
   "execution_count": null,
   "id": "0f897085",
   "metadata": {},
   "outputs": [],
   "source": []
  }
 ],
 "metadata": {
  "kernelspec": {
   "display_name": "Python 3 (ipykernel)",
   "language": "python",
   "name": "python3"
  },
  "language_info": {
   "codemirror_mode": {
    "name": "ipython",
    "version": 3
   },
   "file_extension": ".py",
   "mimetype": "text/x-python",
   "name": "python",
   "nbconvert_exporter": "python",
   "pygments_lexer": "ipython3",
   "version": "3.12.7"
  }
 },
 "nbformat": 4,
 "nbformat_minor": 5
}
