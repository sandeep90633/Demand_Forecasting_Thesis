{
 "cells": [
  {
   "cell_type": "code",
   "execution_count": 110,
   "metadata": {},
   "outputs": [],
   "source": [
    "import pandas as pd\n",
    "import holidays\n",
    "from sklearn.preprocessing import OneHotEncoder\n",
    "from sklearn.model_selection import train_test_split"
   ]
  },
  {
   "cell_type": "code",
   "execution_count": 150,
   "metadata": {},
   "outputs": [],
   "source": [
    "data = pd.read_csv(\"data/online_sales_2009_2010.csv\",encoding='unicode_escape')"
   ]
  },
  {
   "cell_type": "code",
   "execution_count": 151,
   "metadata": {},
   "outputs": [],
   "source": [
    "data['InvoiceDate'] = pd.to_datetime(data['InvoiceDate'], format='%d-%m-%Y %H:%M')\n",
    "data = data.set_index('InvoiceDate')"
   ]
  },
  {
   "cell_type": "code",
   "execution_count": 152,
   "metadata": {},
   "outputs": [],
   "source": [
    "def create_time_series_features(df: pd.DataFrame):\n",
    "    features = {\n",
    "        'quarter': df.index.quarter,\n",
    "        'day_of_week': df.index.dayofweek,\n",
    "        'month': df.index.month,\n",
    "        'year': df.index.year,\n",
    "        'day_of_month': df.index.day,\n",
    "        'day_of_week' : df.index.day_name(),\n",
    "        'week_of_year': df.index.isocalendar().week\n",
    "    }\n",
    "\n",
    "    for feature_name, feature_values in features.items():\n",
    "        df[feature_name] = feature_values\n",
    "    \n",
    "    df.reset_index(inplace=True)\n",
    "\n",
    "    return df\n",
    "\n",
    "df = create_time_series_features(data)"
   ]
  },
  {
   "cell_type": "markdown",
   "metadata": {},
   "source": [
    "#Feature Engineering"
   ]
  },
  {
   "cell_type": "code",
   "execution_count": 154,
   "metadata": {},
   "outputs": [],
   "source": [
    "df['InvoiceDate'] = df['InvoiceDate'].dt.strftime('%Y-%m-%d')"
   ]
  },
  {
   "cell_type": "markdown",
   "metadata": {},
   "source": [
    "#In the perspective of Inventory control, the goal is to focus on quantity attribute in the product level. Therefore, aggregating the quantity by product and other time related features.\n",
    "\n",
    "#Additionally along with existing feature, ml models require some more features to understand the data clearly."
   ]
  },
  {
   "cell_type": "code",
   "execution_count": 187,
   "metadata": {},
   "outputs": [],
   "source": [
    "sales = df.groupby(['StockCode','InvoiceDate','year','month','day_of_week','day_of_month'])['Quantity'].sum().reset_index()\n",
    "\n",
    "sales = sales.sort_values('InvoiceDate')\n",
    "\n",
    "sales['rolling_avg_7days'] = sales.groupby('StockCode')['Quantity'].transform(lambda x: x.rolling(window=7, min_periods=1).mean())\n",
    "sales['cumulative_sum'] = sales.groupby('StockCode')['Quantity'].cumsum()\n",
    "\n",
    "sales['lag_1'] = sales.groupby('StockCode')['Quantity'].shift(1)\n",
    "sales['lag_7'] = sales.groupby('StockCode')['Quantity'].shift(7)\n",
    "\n",
    "sales['lag_1'] = sales.groupby(['StockCode','year','month'])['lag_1'].transform(lambda x: x.fillna(x.mean()))\n",
    "sales['lag_7'] = sales.groupby(['StockCode','year','month'])['lag_7'].transform(lambda x: x.fillna(x.mean()))"
   ]
  },
  {
   "cell_type": "markdown",
   "metadata": {},
   "source": [
    "#Creating two new features to include the holidays. Because, usually most of the people go for shopping in holidays instead of working days. "
   ]
  },
  {
   "cell_type": "code",
   "execution_count": 188,
   "metadata": {},
   "outputs": [],
   "source": [
    "uk_holidays = holidays.UnitedKingdom()\n",
    "\n",
    "sales['is_uk_holiday'] = sales['InvoiceDate'].isin(uk_holidays).astype(int)\n",
    "sales['is_weekend'] = sales['day_of_week'].isin(['Saturday', 'Sunday']).astype(int)\n",
    "sales['is_holiday_or_weekend'] = ((sales['is_uk_holiday'] == 1) | (sales['is_weekend'] == 1)).astype(int)"
   ]
  },
  {
   "cell_type": "code",
   "execution_count": 190,
   "metadata": {},
   "outputs": [],
   "source": [
    "sales = sales.drop(['InvoiceDate'], axis=1)"
   ]
  },
  {
   "cell_type": "code",
   "execution_count": 191,
   "metadata": {},
   "outputs": [],
   "source": [
    "def oneHotEncoding(df, index_column):\n",
    "    df=df.set_index(index_column)\n",
    "    \n",
    "    categorical_cols = df.select_dtypes(include=['object']).columns.tolist()\n",
    "\n",
    "    encoder = OneHotEncoder(sparse_output=False)\n",
    "    one_hot_encoded_categorical = encoder.fit_transform(df[categorical_cols])\n",
    "    one_hot_df = pd.DataFrame(one_hot_encoded_categorical, columns=encoder.get_feature_names_out(categorical_cols))\n",
    "    \n",
    "    one_hot_encoded = pd.concat([df.reset_index(),one_hot_df], axis=1)\n",
    "    one_hot_encoded = one_hot_encoded.drop(categorical_cols, axis=1)\n",
    "    df = one_hot_encoded.set_index(index_column)\n",
    "\n",
    "    return df\n",
    "\n",
    "sales = oneHotEncoding(sales, 'StockCode')"
   ]
  },
  {
   "cell_type": "code",
   "execution_count": 203,
   "metadata": {},
   "outputs": [],
   "source": [
    "split_point = int(len(sales) * 0.8)\n",
    "\n",
    "# Split the data\n",
    "train = sales.iloc[:split_point]\n",
    "test = sales.iloc[split_point:]"
   ]
  },
  {
   "cell_type": "code",
   "execution_count": 204,
   "metadata": {},
   "outputs": [],
   "source": [
    "X_train = train.drop(['Quantity'], axis=1)\n",
    "y_train = train['Quantity']\n",
    "\n",
    "X_test = test.drop(['Quantity'], axis=1)\n",
    "y_test = test['Quantity']"
   ]
  },
  {
   "cell_type": "code",
   "execution_count": 205,
   "metadata": {},
   "outputs": [],
   "source": [
    "# Convert to NumPy arrays\n",
    "X_train = X_train.to_numpy()  \n",
    "y_train = y_train.to_numpy() \n",
    "\n",
    "X_test = X_test.to_numpy()\n",
    "y_test = y_test.to_numpy()"
   ]
  },
  {
   "cell_type": "code",
   "execution_count": 206,
   "metadata": {},
   "outputs": [
    {
     "name": "stdout",
     "output_type": "stream",
     "text": [
      "Mean Squared Error: 8749.574064735005\n",
      "R^2 Score: 0.3130624985863445\n"
     ]
    }
   ],
   "source": [
    "from sklearn.ensemble import RandomForestRegressor\n",
    "from sklearn.metrics import mean_squared_error, r2_score\n",
    "\n",
    "# Initialize the Random Forest Regressor\n",
    "model = RandomForestRegressor(n_estimators=100, random_state=42)\n",
    "\n",
    "# Train the model\n",
    "model.fit(X_train, y_train)\n",
    "\n",
    "# Make predictions on the test set\n",
    "y_pred = model.predict(X_test)\n",
    "\n",
    "# Calculate accuracy metrics\n",
    "mse = mean_squared_error(y_test, y_pred)\n",
    "r2 = r2_score(y_test, y_pred)\n",
    "\n",
    "print(f'Mean Squared Error: {mse}')\n",
    "print(f'R^2 Score: {r2}')\n"
   ]
  },
  {
   "cell_type": "code",
   "execution_count": 200,
   "metadata": {},
   "outputs": [
    {
     "name": "stdout",
     "output_type": "stream",
     "text": [
      "XGBoost Mean Squared Error: 15435.33442377234\n",
      "XGBoost R-squared Score: -0.21184277534484863\n"
     ]
    }
   ],
   "source": [
    "import xgboost as xgb\n",
    "\n",
    "model_xgb = xgb.XGBRegressor(objective='reg:squarederror', max_depth=4, n_estimators=500)\n",
    "\n",
    "# Training the model on the training data\n",
    "model_xgb.fit(X_train, y_train)\n",
    "\n",
    "# Making predictions on the test set\n",
    "predictions_xgb = model_xgb.predict(X_test)\n",
    "\n",
    "# Calculate the mean squared error and R-squared score\n",
    "mse_xgb = mean_squared_error(y_test, predictions_xgb)\n",
    "r2_xgb = r2_score(y_test, predictions_xgb)\n",
    "\n",
    "print(\"XGBoost Mean Squared Error:\", mse_xgb)\n",
    "print(\"XGBoost R-squared Score:\", r2_xgb)"
   ]
  },
  {
   "cell_type": "code",
   "execution_count": 207,
   "metadata": {},
   "outputs": [],
   "source": [
    "from sklearn.svm import SVR\n",
    "\n",
    "# Creating an SVM regressor model\n",
    "model_svr = SVR(kernel='rbf')  # You can also try 'linear' or 'poly' kernels\n",
    "\n",
    "# Training the model on the training data\n",
    "model_svr.fit(X_train, y_train)\n",
    "\n",
    "# Making predictions on the test set\n",
    "predictions_svr = model_svr.predict(X_test)\n",
    "\n",
    "# Calculate the mean squared error and R-squared score\n",
    "mse_svr = mean_squared_error(y_test, predictions_svr)\n",
    "r2_svr = r2_score(y_test, predictions_svr)\n",
    "\n",
    "print(\"SVM Mean Squared Error:\", mse_svr)\n",
    "print(\"SVM R-squared Score:\", r2_svr)\n"
   ]
  },
  {
   "cell_type": "code",
   "execution_count": null,
   "metadata": {},
   "outputs": [],
   "source": []
  }
 ],
 "metadata": {
  "kernelspec": {
   "display_name": "thesis_env",
   "language": "python",
   "name": "python3"
  },
  "language_info": {
   "codemirror_mode": {
    "name": "ipython",
    "version": 3
   },
   "file_extension": ".py",
   "mimetype": "text/x-python",
   "name": "python",
   "nbconvert_exporter": "python",
   "pygments_lexer": "ipython3",
   "version": "3.12.7"
  }
 },
 "nbformat": 4,
 "nbformat_minor": 2
}
