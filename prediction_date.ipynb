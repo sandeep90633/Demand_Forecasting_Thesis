{
 "cells": [
  {
   "cell_type": "code",
   "execution_count": 103,
   "metadata": {},
   "outputs": [],
   "source": [
    "import pandas as pd"
   ]
  },
  {
   "cell_type": "code",
   "execution_count": 104,
   "metadata": {},
   "outputs": [],
   "source": [
    "data = pd.read_csv(\"data/sales_data.csv\")\n",
    "df = data.drop(columns=['order_number', 'customer_type', 'unit_sale_price','revenue'])"
   ]
  },
  {
   "cell_type": "markdown",
   "metadata": {},
   "source": [
    "creating weekly and monthly dataframes from historical sales data"
   ]
  },
  {
   "cell_type": "code",
   "execution_count": 105,
   "metadata": {},
   "outputs": [],
   "source": [
    "df['order_date'] = pd.to_datetime(df['order_date'])\n",
    "df['year'] = df['order_date'].dt.year\n",
    "df['month'] = df['order_date'].dt.month\n",
    "df['week'] = df['order_date'].dt.isocalendar().week\n",
    "\n",
    "weekly_sales = df.groupby(['sku_id','warehouse_id','year','month','week'])['order_quantity'].sum().reset_index()\n",
    "weekly_sales = weekly_sales.sort_values(by=['year','month','week'])\n",
    "\n",
    "monthly_sales = df.groupby(['sku_id','warehouse_id','year','month'])['order_quantity'].sum().reset_index()\n",
    "monthly_sales = monthly_sales.sort_values(by=['year','month'])"
   ]
  },
  {
   "cell_type": "markdown",
   "metadata": {},
   "source": [
    "Creating a prediction dataset for model prediction. Taking sku_ids from inventory"
   ]
  },
  {
   "cell_type": "code",
   "execution_count": 106,
   "metadata": {},
   "outputs": [],
   "source": [
    "inventory = pd.read_csv('data/inventory.csv')\n",
    "inventory = inventory[['sku_id', 'warehouse_id']]"
   ]
  },
  {
   "cell_type": "markdown",
   "metadata": {},
   "source": [
    "############### Weekly prediction dataset ###############"
   ]
  },
  {
   "cell_type": "code",
   "execution_count": 107,
   "metadata": {},
   "outputs": [],
   "source": [
    "weekly_extra_data = inventory.copy()\n",
    "\n",
    "weekly_extra_data['year'] = 2023\n",
    "weekly_extra_data['month'] = 8\n",
    "weekly_extra_data['week'] = 31\n",
    "weekly_extra_data['order_quantity'] = 0"
   ]
  },
  {
   "cell_type": "code",
   "execution_count": 108,
   "metadata": {},
   "outputs": [],
   "source": [
    "weekly_sales = pd.concat([weekly_sales, weekly_extra_data], ignore_index=True)"
   ]
  },
  {
   "cell_type": "code",
   "execution_count": 109,
   "metadata": {},
   "outputs": [],
   "source": [
    "weekly_sales['lag_1'] = weekly_sales.groupby(['sku_id','warehouse_id'])['order_quantity'].shift(1)\n",
    "weekly_sales['lag_2'] = weekly_sales.groupby(['sku_id','warehouse_id'])['order_quantity'].shift(2)\n",
    "weekly_sales['lag_7'] = weekly_sales.groupby(['sku_id','warehouse_id'])['order_quantity'].shift(7)\n",
    "weekly_sales['rolling_avg_3_weeks'] = weekly_sales.groupby(['sku_id','warehouse_id'])['order_quantity'].transform(lambda x: x.rolling(window=3).mean())\n",
    "weekly_sales['cumulative_sum'] = weekly_sales.groupby(['sku_id','warehouse_id'])['order_quantity'].cumsum()\n",
    "\n",
    "# Removing events that have NaN values\n",
    "sku_weekly_sales = weekly_sales.dropna(subset=['lag_1', 'lag_2', 'lag_7', 'rolling_avg_3_weeks', 'cumulative_sum'])"
   ]
  },
  {
   "cell_type": "code",
   "execution_count": 110,
   "metadata": {},
   "outputs": [],
   "source": [
    "weekly_prediction_data = sku_weekly_sales.query(\"year==2023 and week==31\")\n",
    "weekly_prediction_data = weekly_prediction_data.drop(columns=['order_quantity'])\n",
    "weekly_prediction_data.to_csv('data/weekly_prediction_data.csv', index=False)"
   ]
  },
  {
   "cell_type": "markdown",
   "metadata": {},
   "source": [
    "Monthly Prediction Dataset Creation"
   ]
  },
  {
   "cell_type": "code",
   "execution_count": 111,
   "metadata": {},
   "outputs": [],
   "source": [
    "monthly_extra_data = inventory.copy()\n",
    "monthly_extra_data['year'] = 2023\n",
    "monthly_extra_data['month'] = 8\n",
    "\n",
    "monthly_extra_data['order_quantity'] = 0"
   ]
  },
  {
   "cell_type": "code",
   "execution_count": 112,
   "metadata": {},
   "outputs": [],
   "source": [
    "monthly_sales = pd.concat([monthly_sales, monthly_extra_data], ignore_index=True)"
   ]
  },
  {
   "cell_type": "code",
   "execution_count": 113,
   "metadata": {},
   "outputs": [],
   "source": [
    "monthly_sales['lag_1'] = monthly_sales.groupby(['sku_id','warehouse_id'])['order_quantity'].shift(1)\n",
    "monthly_sales['lag_2'] = monthly_sales.groupby(['sku_id','warehouse_id'])['order_quantity'].shift(2)"
   ]
  },
  {
   "cell_type": "code",
   "execution_count": 115,
   "metadata": {},
   "outputs": [],
   "source": [
    "monthly_sales['lag_1'] = monthly_sales.groupby(['sku_id','warehouse_id'])['order_quantity'].shift(1)\n",
    "monthly_sales['lag_2'] = monthly_sales.groupby(['sku_id','warehouse_id'])['order_quantity'].shift(2)\n",
    "monthly_sales['rolling_avg_3_months'] = monthly_sales.groupby(['sku_id','warehouse_id'])['order_quantity'].transform(lambda x: x.rolling(window=3).mean())\n",
    "monthly_sales['cumulative_sum'] = monthly_sales.groupby(['sku_id','warehouse_id'])['order_quantity'].cumsum()\n",
    "\n",
    "# Removing events that have NaN values\n",
    "sku_monthly_sales = monthly_sales.dropna(subset=['lag_1', 'lag_2', 'rolling_avg_3_months', 'cumulative_sum'])"
   ]
  },
  {
   "cell_type": "code",
   "execution_count": 117,
   "metadata": {},
   "outputs": [],
   "source": [
    "monthly_prediction_data = sku_monthly_sales.query(\"year==2023 and month==8\")\n",
    "monthly_prediction_data = monthly_prediction_data.drop(columns=['order_quantity'])\n",
    "monthly_prediction_data.to_csv('data/monthly_prediction_data.csv', index= False)"
   ]
  },
  {
   "cell_type": "markdown",
   "metadata": {},
   "source": []
  }
 ],
 "metadata": {
  "kernelspec": {
   "display_name": "myenv",
   "language": "python",
   "name": "python3"
  },
  "language_info": {
   "codemirror_mode": {
    "name": "ipython",
    "version": 3
   },
   "file_extension": ".py",
   "mimetype": "text/x-python",
   "name": "python",
   "nbconvert_exporter": "python",
   "pygments_lexer": "ipython3",
   "version": "3.12.7"
  }
 },
 "nbformat": 4,
 "nbformat_minor": 2
}
