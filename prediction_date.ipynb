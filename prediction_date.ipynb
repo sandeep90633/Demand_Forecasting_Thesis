{
 "cells": [
  {
   "cell_type": "code",
   "execution_count": 156,
   "metadata": {},
   "outputs": [],
   "source": [
    "import pandas as pd"
   ]
  },
  {
   "cell_type": "code",
   "execution_count": 157,
   "metadata": {},
   "outputs": [],
   "source": [
    "data = pd.read_csv(\"data/sales_data.csv\")\n",
    "df = data.drop(columns=['order_number', 'customer_type', 'unit_sale_price','revenue'])"
   ]
  },
  {
   "cell_type": "markdown",
   "metadata": {},
   "source": [
    "creating weekly and monthly dataframes from historical sales data"
   ]
  },
  {
   "cell_type": "code",
   "execution_count": 158,
   "metadata": {},
   "outputs": [],
   "source": [
    "df['order_date'] = pd.to_datetime(df['order_date'])\n",
    "df['year'] = df['order_date'].dt.year\n",
    "df['month'] = df['order_date'].dt.month\n",
    "df['week'] = df['order_date'].dt.isocalendar().week\n",
    "\n",
    "weekly_sales = df.groupby(['sku_id','warehouse_id','year','month','week'])['order_quantity'].sum().reset_index()\n",
    "weekly_sales = weekly_sales.sort_values(by=['year','month','week'])\n",
    "\n",
    "monthly_sales = df.groupby(['sku_id','warehouse_id','year','month'])['order_quantity'].sum().reset_index()\n",
    "monthly_sales = monthly_sales.sort_values(by=['year','month'])"
   ]
  },
  {
   "cell_type": "markdown",
   "metadata": {},
   "source": [
    "Creating a prediction dataset for model prediction. Taking sku_ids from inventory"
   ]
  },
  {
   "cell_type": "code",
   "execution_count": 159,
   "metadata": {},
   "outputs": [],
   "source": [
    "inventory = pd.read_csv('data/inventory.csv')\n",
    "inventory = inventory[['sku_id', 'warehouse_id']]"
   ]
  },
  {
   "cell_type": "markdown",
   "metadata": {},
   "source": [
    "############### Weekly prediction dataset ###############"
   ]
  },
  {
   "cell_type": "code",
   "execution_count": 160,
   "metadata": {},
   "outputs": [],
   "source": [
    "weekly_extra_data = inventory.copy()\n",
    "\n",
    "weekly_extra_data['year'] = 2023\n",
    "weekly_extra_data['month'] = 8\n",
    "weekly_extra_data['week'] = 31\n",
    "weekly_extra_data['order_quantity'] = 0"
   ]
  },
  {
   "cell_type": "code",
   "execution_count": 161,
   "metadata": {},
   "outputs": [],
   "source": [
    "weekly_sales = pd.concat([weekly_sales, weekly_extra_data], ignore_index=True)"
   ]
  },
  {
   "cell_type": "code",
   "execution_count": 162,
   "metadata": {},
   "outputs": [],
   "source": [
    "import numpy as np\n",
    "weekly_sales['order_quantity']= weekly_sales.groupby(['sku_id', 'warehouse_id'])['order_quantity'].transform(lambda x: x.replace(0, x.mean()))"
   ]
  },
  {
   "cell_type": "code",
   "execution_count": 163,
   "metadata": {},
   "outputs": [
    {
     "data": {
      "text/html": [
       "<div>\n",
       "<style scoped>\n",
       "    .dataframe tbody tr th:only-of-type {\n",
       "        vertical-align: middle;\n",
       "    }\n",
       "\n",
       "    .dataframe tbody tr th {\n",
       "        vertical-align: top;\n",
       "    }\n",
       "\n",
       "    .dataframe thead th {\n",
       "        text-align: right;\n",
       "    }\n",
       "</style>\n",
       "<table border=\"1\" class=\"dataframe\">\n",
       "  <thead>\n",
       "    <tr style=\"text-align: right;\">\n",
       "      <th></th>\n",
       "      <th>sku_id</th>\n",
       "      <th>warehouse_id</th>\n",
       "      <th>year</th>\n",
       "      <th>month</th>\n",
       "      <th>week</th>\n",
       "      <th>order_quantity</th>\n",
       "    </tr>\n",
       "  </thead>\n",
       "  <tbody>\n",
       "    <tr>\n",
       "      <th>5619</th>\n",
       "      <td>3619CA</td>\n",
       "      <td>NXH382</td>\n",
       "      <td>2021</td>\n",
       "      <td>6</td>\n",
       "      <td>24</td>\n",
       "      <td>2800.000000</td>\n",
       "    </tr>\n",
       "    <tr>\n",
       "      <th>5853</th>\n",
       "      <td>3619CA</td>\n",
       "      <td>NXH382</td>\n",
       "      <td>2021</td>\n",
       "      <td>6</td>\n",
       "      <td>25</td>\n",
       "      <td>50.000000</td>\n",
       "    </tr>\n",
       "    <tr>\n",
       "      <th>5963</th>\n",
       "      <td>3619CA</td>\n",
       "      <td>NXH382</td>\n",
       "      <td>2021</td>\n",
       "      <td>6</td>\n",
       "      <td>26</td>\n",
       "      <td>3499.000000</td>\n",
       "    </tr>\n",
       "    <tr>\n",
       "      <th>7984</th>\n",
       "      <td>3619CA</td>\n",
       "      <td>NXH382</td>\n",
       "      <td>2021</td>\n",
       "      <td>8</td>\n",
       "      <td>34</td>\n",
       "      <td>525.000000</td>\n",
       "    </tr>\n",
       "    <tr>\n",
       "      <th>10394</th>\n",
       "      <td>3619CA</td>\n",
       "      <td>NXH382</td>\n",
       "      <td>2021</td>\n",
       "      <td>11</td>\n",
       "      <td>44</td>\n",
       "      <td>1138.000000</td>\n",
       "    </tr>\n",
       "    <tr>\n",
       "      <th>12039</th>\n",
       "      <td>3619CA</td>\n",
       "      <td>NXH382</td>\n",
       "      <td>2021</td>\n",
       "      <td>12</td>\n",
       "      <td>51</td>\n",
       "      <td>5250.000000</td>\n",
       "    </tr>\n",
       "    <tr>\n",
       "      <th>13162</th>\n",
       "      <td>3619CA</td>\n",
       "      <td>NXH382</td>\n",
       "      <td>2022</td>\n",
       "      <td>1</td>\n",
       "      <td>4</td>\n",
       "      <td>4458.000000</td>\n",
       "    </tr>\n",
       "    <tr>\n",
       "      <th>13970</th>\n",
       "      <td>3619CA</td>\n",
       "      <td>NXH382</td>\n",
       "      <td>2022</td>\n",
       "      <td>2</td>\n",
       "      <td>7</td>\n",
       "      <td>1126.000000</td>\n",
       "    </tr>\n",
       "    <tr>\n",
       "      <th>15165</th>\n",
       "      <td>3619CA</td>\n",
       "      <td>NXH382</td>\n",
       "      <td>2022</td>\n",
       "      <td>3</td>\n",
       "      <td>12</td>\n",
       "      <td>473.000000</td>\n",
       "    </tr>\n",
       "    <tr>\n",
       "      <th>17324</th>\n",
       "      <td>3619CA</td>\n",
       "      <td>NXH382</td>\n",
       "      <td>2022</td>\n",
       "      <td>5</td>\n",
       "      <td>21</td>\n",
       "      <td>204.000000</td>\n",
       "    </tr>\n",
       "    <tr>\n",
       "      <th>17823</th>\n",
       "      <td>3619CA</td>\n",
       "      <td>NXH382</td>\n",
       "      <td>2022</td>\n",
       "      <td>6</td>\n",
       "      <td>23</td>\n",
       "      <td>473.000000</td>\n",
       "    </tr>\n",
       "    <tr>\n",
       "      <th>18063</th>\n",
       "      <td>3619CA</td>\n",
       "      <td>NXH382</td>\n",
       "      <td>2022</td>\n",
       "      <td>6</td>\n",
       "      <td>24</td>\n",
       "      <td>8288.000000</td>\n",
       "    </tr>\n",
       "    <tr>\n",
       "      <th>19499</th>\n",
       "      <td>3619CA</td>\n",
       "      <td>NXH382</td>\n",
       "      <td>2022</td>\n",
       "      <td>7</td>\n",
       "      <td>30</td>\n",
       "      <td>880.000000</td>\n",
       "    </tr>\n",
       "    <tr>\n",
       "      <th>20450</th>\n",
       "      <td>3619CA</td>\n",
       "      <td>NXH382</td>\n",
       "      <td>2022</td>\n",
       "      <td>8</td>\n",
       "      <td>34</td>\n",
       "      <td>6483.000000</td>\n",
       "    </tr>\n",
       "    <tr>\n",
       "      <th>21405</th>\n",
       "      <td>3619CA</td>\n",
       "      <td>NXH382</td>\n",
       "      <td>2022</td>\n",
       "      <td>9</td>\n",
       "      <td>38</td>\n",
       "      <td>2132.000000</td>\n",
       "    </tr>\n",
       "    <tr>\n",
       "      <th>21588</th>\n",
       "      <td>3619CA</td>\n",
       "      <td>NXH382</td>\n",
       "      <td>2022</td>\n",
       "      <td>9</td>\n",
       "      <td>39</td>\n",
       "      <td>16527.000000</td>\n",
       "    </tr>\n",
       "    <tr>\n",
       "      <th>22162</th>\n",
       "      <td>3619CA</td>\n",
       "      <td>NXH382</td>\n",
       "      <td>2022</td>\n",
       "      <td>10</td>\n",
       "      <td>41</td>\n",
       "      <td>1000.000000</td>\n",
       "    </tr>\n",
       "    <tr>\n",
       "      <th>25782</th>\n",
       "      <td>3619CA</td>\n",
       "      <td>NXH382</td>\n",
       "      <td>2023</td>\n",
       "      <td>4</td>\n",
       "      <td>13</td>\n",
       "      <td>1320.000000</td>\n",
       "    </tr>\n",
       "    <tr>\n",
       "      <th>26457</th>\n",
       "      <td>3619CA</td>\n",
       "      <td>NXH382</td>\n",
       "      <td>2023</td>\n",
       "      <td>5</td>\n",
       "      <td>22</td>\n",
       "      <td>18.000000</td>\n",
       "    </tr>\n",
       "    <tr>\n",
       "      <th>27448</th>\n",
       "      <td>3619CA</td>\n",
       "      <td>NXH382</td>\n",
       "      <td>2023</td>\n",
       "      <td>8</td>\n",
       "      <td>31</td>\n",
       "      <td>2803.689655</td>\n",
       "    </tr>\n",
       "  </tbody>\n",
       "</table>\n",
       "</div>"
      ],
      "text/plain": [
       "       sku_id warehouse_id  year  month  week  order_quantity\n",
       "5619   3619CA       NXH382  2021      6    24     2800.000000\n",
       "5853   3619CA       NXH382  2021      6    25       50.000000\n",
       "5963   3619CA       NXH382  2021      6    26     3499.000000\n",
       "7984   3619CA       NXH382  2021      8    34      525.000000\n",
       "10394  3619CA       NXH382  2021     11    44     1138.000000\n",
       "12039  3619CA       NXH382  2021     12    51     5250.000000\n",
       "13162  3619CA       NXH382  2022      1     4     4458.000000\n",
       "13970  3619CA       NXH382  2022      2     7     1126.000000\n",
       "15165  3619CA       NXH382  2022      3    12      473.000000\n",
       "17324  3619CA       NXH382  2022      5    21      204.000000\n",
       "17823  3619CA       NXH382  2022      6    23      473.000000\n",
       "18063  3619CA       NXH382  2022      6    24     8288.000000\n",
       "19499  3619CA       NXH382  2022      7    30      880.000000\n",
       "20450  3619CA       NXH382  2022      8    34     6483.000000\n",
       "21405  3619CA       NXH382  2022      9    38     2132.000000\n",
       "21588  3619CA       NXH382  2022      9    39    16527.000000\n",
       "22162  3619CA       NXH382  2022     10    41     1000.000000\n",
       "25782  3619CA       NXH382  2023      4    13     1320.000000\n",
       "26457  3619CA       NXH382  2023      5    22       18.000000\n",
       "27448  3619CA       NXH382  2023      8    31     2803.689655"
      ]
     },
     "execution_count": 163,
     "metadata": {},
     "output_type": "execute_result"
    }
   ],
   "source": [
    "weekly_sales[(weekly_sales['sku_id']=='3619CA') & (weekly_sales['warehouse_id']=='NXH382')].tail(20)"
   ]
  },
  {
   "cell_type": "code",
   "execution_count": 164,
   "metadata": {},
   "outputs": [],
   "source": [
    "weekly_sales['lag_1'] = weekly_sales.groupby(['sku_id','warehouse_id'])['order_quantity'].shift(1)\n",
    "weekly_sales['lag_2'] = weekly_sales.groupby(['sku_id','warehouse_id'])['order_quantity'].shift(2)\n",
    "weekly_sales['lag_7'] = weekly_sales.groupby(['sku_id','warehouse_id'])['order_quantity'].shift(7)\n",
    "weekly_sales['rolling_avg_3_weeks'] = weekly_sales.groupby(['sku_id','warehouse_id'])['order_quantity'].transform(lambda x: x.rolling(window=3).mean())\n",
    "weekly_sales['cumulative_sum'] = weekly_sales.groupby(['sku_id','warehouse_id'])['order_quantity'].cumsum()\n",
    "\n",
    "# Removing events that have NaN values\n",
    "sku_weekly_sales = weekly_sales.dropna(subset=['lag_1', 'lag_2', 'lag_7', 'rolling_avg_3_weeks', 'cumulative_sum'])"
   ]
  },
  {
   "cell_type": "code",
   "execution_count": 165,
   "metadata": {},
   "outputs": [],
   "source": [
    "weekly_prediction_data = sku_weekly_sales.query(\"year==2023 and week==31\")\n",
    "weekly_prediction_data = weekly_prediction_data.drop(columns=['order_quantity'])\n",
    "weekly_prediction_data.to_csv('data/weekly_prediction_data.csv', index=False)"
   ]
  },
  {
   "cell_type": "markdown",
   "metadata": {},
   "source": [
    "Monthly Prediction Dataset Creation"
   ]
  },
  {
   "cell_type": "code",
   "execution_count": 111,
   "metadata": {},
   "outputs": [],
   "source": [
    "monthly_extra_data = inventory.copy()\n",
    "monthly_extra_data['year'] = 2023\n",
    "monthly_extra_data['month'] = 8\n",
    "\n",
    "monthly_extra_data['order_quantity'] = 0"
   ]
  },
  {
   "cell_type": "code",
   "execution_count": 112,
   "metadata": {},
   "outputs": [],
   "source": [
    "monthly_sales = pd.concat([monthly_sales, monthly_extra_data], ignore_index=True)"
   ]
  },
  {
   "cell_type": "code",
   "execution_count": 113,
   "metadata": {},
   "outputs": [],
   "source": [
    "monthly_sales['lag_1'] = monthly_sales.groupby(['sku_id','warehouse_id'])['order_quantity'].shift(1)\n",
    "monthly_sales['lag_2'] = monthly_sales.groupby(['sku_id','warehouse_id'])['order_quantity'].shift(2)"
   ]
  },
  {
   "cell_type": "code",
   "execution_count": 115,
   "metadata": {},
   "outputs": [],
   "source": [
    "monthly_sales['lag_1'] = monthly_sales.groupby(['sku_id','warehouse_id'])['order_quantity'].shift(1)\n",
    "monthly_sales['lag_2'] = monthly_sales.groupby(['sku_id','warehouse_id'])['order_quantity'].shift(2)\n",
    "monthly_sales['rolling_avg_3_months'] = monthly_sales.groupby(['sku_id','warehouse_id'])['order_quantity'].transform(lambda x: x.rolling(window=3).mean())\n",
    "monthly_sales['cumulative_sum'] = monthly_sales.groupby(['sku_id','warehouse_id'])['order_quantity'].cumsum()\n",
    "\n",
    "# Removing events that have NaN values\n",
    "sku_monthly_sales = monthly_sales.dropna(subset=['lag_1', 'lag_2', 'rolling_avg_3_months', 'cumulative_sum'])"
   ]
  },
  {
   "cell_type": "code",
   "execution_count": 117,
   "metadata": {},
   "outputs": [],
   "source": [
    "monthly_prediction_data = sku_monthly_sales.query(\"year==2023 and month==8\")\n",
    "monthly_prediction_data = monthly_prediction_data.drop(columns=['order_quantity'])\n",
    "monthly_prediction_data.to_csv('data/monthly_prediction_data.csv', index= False)"
   ]
  },
  {
   "cell_type": "markdown",
   "metadata": {},
   "source": []
  }
 ],
 "metadata": {
  "kernelspec": {
   "display_name": "myenv",
   "language": "python",
   "name": "python3"
  },
  "language_info": {
   "codemirror_mode": {
    "name": "ipython",
    "version": 3
   },
   "file_extension": ".py",
   "mimetype": "text/x-python",
   "name": "python",
   "nbconvert_exporter": "python",
   "pygments_lexer": "ipython3",
   "version": "3.12.7"
  }
 },
 "nbformat": 4,
 "nbformat_minor": 2
}
