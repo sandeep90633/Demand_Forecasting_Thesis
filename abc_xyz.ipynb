{
 "cells": [
  {
   "cell_type": "code",
   "execution_count": 1,
   "metadata": {},
   "outputs": [],
   "source": [
    "import pandas as pd"
   ]
  },
  {
   "cell_type": "code",
   "execution_count": 30,
   "metadata": {},
   "outputs": [],
   "source": [
    "sales = pd.read_csv(\"data/sales_data.csv\")\n",
    "sku_items = pd.read_csv(\"data/SKU_items.csv\")"
   ]
  },
  {
   "cell_type": "code",
   "execution_count": 32,
   "metadata": {},
   "outputs": [],
   "source": [
    "sku_items.columns = [x.lower() for x in sku_items.columns]\n",
    "sku_items.columns = sku_items.columns.str.strip()\n",
    "sku_items.columns = sku_items.columns.str.replace(' ', '_')"
   ]
  },
  {
   "cell_type": "markdown",
   "metadata": {},
   "source": [
    "Revenue per ID"
   ]
  },
  {
   "cell_type": "code",
   "execution_count": 25,
   "metadata": {},
   "outputs": [],
   "source": [
    "revenue_per_id = sales.groupby('sku_id')['revenue'].sum()\n",
    "revenue_df = pd.merge(sku_items['sku_id'], revenue_per_id, on='sku_id', how='left')\n",
    "revenue_df.fillna(0,inplace=True)\n",
    "\n",
    "revenue_df['revenue_percentage_per_id'] = ((revenue_df['revenue']/sum(revenue_df['revenue']))*100).round(2)"
   ]
  },
  {
   "cell_type": "code",
   "execution_count": null,
   "metadata": {},
   "outputs": [],
   "source": []
  }
 ],
 "metadata": {
  "kernelspec": {
   "display_name": "thesis_env",
   "language": "python",
   "name": "python3"
  },
  "language_info": {
   "codemirror_mode": {
    "name": "ipython",
    "version": 3
   },
   "file_extension": ".py",
   "mimetype": "text/x-python",
   "name": "python",
   "nbconvert_exporter": "python",
   "pygments_lexer": "ipython3",
   "version": "3.9.19"
  }
 },
 "nbformat": 4,
 "nbformat_minor": 2
}
