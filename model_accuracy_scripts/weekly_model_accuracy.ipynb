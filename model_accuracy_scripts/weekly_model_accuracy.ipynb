{
 "cells": [
  {
   "cell_type": "code",
   "execution_count": 1,
   "id": "b96fcf14-dc99-4679-9e7c-fce2563993da",
   "metadata": {},
   "outputs": [],
   "source": [
    "import pandas as pd\n",
    "import numpy as np\n",
    "import warnings\n",
    "from sklearn.preprocessing import OneHotEncoder\n",
    "from sklearn.metrics import mean_squared_error, r2_score\n",
    "from sklearn.ensemble import RandomForestRegressor\n",
    "from sklearn.model_selection import GridSearchCV\n",
    "from sklearn.model_selection import RandomizedSearchCV\n",
    "from sklearn.model_selection import train_test_split\n",
    "from xgboost import XGBRegressor\n",
    "\n",
    "warnings.filterwarnings('ignore')\n",
    "pd.set_option('display.float_format', '{:.2f}'.format)"
   ]
  },
  {
   "cell_type": "code",
   "execution_count": 2,
   "id": "81bc8aef",
   "metadata": {},
   "outputs": [],
   "source": [
    "file_name ='original_sales_data.csv'\n",
    "\n",
    "try:\n",
    "    df = pd.read_csv(r\"C:\\Users\\JASWANTH REDDY\\OneDrive\\Desktop\\Projects\\Demand_Forecasting_Thesis\\data\\original_sales_data.csv\")\n",
    "except:\n",
    "    print(\"Provided file name not found in the local!\")\n",
    "    raise Exception('FileNotFoundError')"
   ]
  },
  {
   "cell_type": "code",
   "execution_count": 3,
   "id": "51b95b82",
   "metadata": {},
   "outputs": [],
   "source": [
    "df = df.loc[:, ~df.columns.str.startswith('Unnamed')]\n",
    "df['order_date'] = pd.to_datetime(df['order_date'], format='%d-%b-%y')"
   ]
  },
  {
   "cell_type": "markdown",
   "id": "440de1e2",
   "metadata": {},
   "source": [
    "Extract features from date attribute for furthur analysis"
   ]
  },
  {
   "cell_type": "code",
   "execution_count": 4,
   "id": "af99b4a4",
   "metadata": {},
   "outputs": [],
   "source": [
    "df['year'] = df['order_date'].dt.year\n",
    "df['month'] = df['order_date'].dt.month\n",
    "df['week'] = df['order_date'].dt.isocalendar().week"
   ]
  },
  {
   "cell_type": "markdown",
   "id": "af3c6a4f",
   "metadata": {},
   "source": [
    "Aggregate quanity by sku_id per week"
   ]
  },
  {
   "cell_type": "code",
   "execution_count": 5,
   "id": "2645afec",
   "metadata": {},
   "outputs": [],
   "source": [
    "weekly_sales = df.groupby(['sku_id','warehouse_id','year','month','week'])['order_quantity'].sum().reset_index()\n",
    "weekly_sales = weekly_sales.sort_values(by=['year','month','week'])"
   ]
  },
  {
   "cell_type": "markdown",
   "id": "dd6beee9",
   "metadata": {},
   "source": [
    "Feature Engineering to feed model with extra features for more accuracy"
   ]
  },
  {
   "cell_type": "code",
   "execution_count": 6,
   "id": "b79ee1eb",
   "metadata": {},
   "outputs": [],
   "source": [
    "weekly_sales['lag_1'] = weekly_sales.groupby(['sku_id','warehouse_id'])['order_quantity'].shift(1)\n",
    "weekly_sales['lag_2'] = weekly_sales.groupby(['sku_id','warehouse_id'])['order_quantity'].shift(2)\n",
    "weekly_sales['lag_7'] = weekly_sales.groupby(['sku_id','warehouse_id'])['order_quantity'].shift(7)\n",
    "weekly_sales['rolling_avg_3_weeks'] = weekly_sales.groupby(['sku_id','warehouse_id'])['order_quantity'].transform(lambda x: x.rolling(window=3).mean())\n",
    "weekly_sales['cumulative_sum'] = weekly_sales.groupby(['sku_id','warehouse_id'])['order_quantity'].cumsum()\n",
    "\n",
    "# Removing events that have NaN values\n",
    "sku_weekly_sales = weekly_sales.dropna(subset=['lag_1', 'lag_2', 'lag_7', 'rolling_avg_3_weeks', 'cumulative_sum'])"
   ]
  },
  {
   "cell_type": "markdown",
   "id": "670b9cb6",
   "metadata": {},
   "source": [
    "This function convert object data type categorical columns into integer type columns."
   ]
  },
  {
   "cell_type": "code",
   "execution_count": 7,
   "id": "e0c94b9c",
   "metadata": {},
   "outputs": [],
   "source": [
    "def oneHotEncoding(df, index_column):\n",
    "    df=df.set_index(index_column)\n",
    "    \n",
    "    categorical_cols = df.select_dtypes(include=['object']).columns.tolist()\n",
    "\n",
    "    encoder = OneHotEncoder(sparse_output=False)\n",
    "    one_hot_encoded_categorical = encoder.fit_transform(df[categorical_cols])\n",
    "    one_hot_df = pd.DataFrame(one_hot_encoded_categorical, columns=encoder.get_feature_names_out(categorical_cols))\n",
    "    \n",
    "    one_hot_encoded = pd.concat([df.reset_index(),one_hot_df], axis=1)\n",
    "    one_hot_encoded = one_hot_encoded.drop(categorical_cols, axis=1)\n",
    "    df = one_hot_encoded.set_index(index_column)\n",
    "\n",
    "    return df\n",
    "\n",
    "data = oneHotEncoding(sku_weekly_sales, 'sku_id')"
   ]
  },
  {
   "cell_type": "code",
   "execution_count": 8,
   "id": "b2093f54",
   "metadata": {},
   "outputs": [],
   "source": [
    "X = data.drop(columns= ['order_quantity'])\n",
    "y = data['order_quantity']"
   ]
  },
  {
   "cell_type": "markdown",
   "id": "a5adda0a",
   "metadata": {},
   "source": [
    "Spliting data: 75% as train data and 25% as test data"
   ]
  },
  {
   "cell_type": "code",
   "execution_count": 9,
   "id": "69416f9b",
   "metadata": {},
   "outputs": [],
   "source": [
    "split_ratio = 0.75\n",
    "split_index = int(len(data) * split_ratio)"
   ]
  },
  {
   "cell_type": "code",
   "execution_count": 10,
   "id": "5e466a28",
   "metadata": {},
   "outputs": [],
   "source": [
    "X_train = X.iloc[:split_index] \n",
    "y_train = y.iloc[:split_index] \n",
    "\n",
    "X_test = X.iloc[split_index:]\n",
    "y_test = y.iloc[split_index:]  "
   ]
  },
  {
   "cell_type": "markdown",
   "id": "5d02a625",
   "metadata": {},
   "source": [
    "Fine tuning the model to get the most suitable hyperparameters for the model"
   ]
  },
  {
   "cell_type": "code",
   "execution_count": 13,
   "id": "10204ac5",
   "metadata": {},
   "outputs": [
    {
     "name": "stdout",
     "output_type": "stream",
     "text": [
      "Fitting 3 folds for each of 300 candidates, totalling 900 fits\n"
     ]
    },
    {
     "data": {
      "text/plain": [
       "{'max_depth': 9,\n",
       " 'min_samples_leaf': 2,\n",
       " 'min_samples_split': 6,\n",
       " 'n_estimators': 250}"
      ]
     },
     "execution_count": 13,
     "metadata": {},
     "output_type": "execute_result"
    }
   ],
   "source": [
    "params = {\n",
    "    'n_estimators': [100, 150, 200, 250, 300],\n",
    "    'max_depth': [2,3,5,7,9],\n",
    "    'min_samples_split': [6, 8, 10, 12],\n",
    "    'min_samples_leaf': [2,4,6]\n",
    "}\n",
    "\n",
    "random_forest_model = RandomForestRegressor(random_state=42)\n",
    "\n",
    "grid_search = GridSearchCV(estimator=random_forest_model, scoring='neg_mean_squared_error', param_grid=params, cv=3, verbose=1, n_jobs=-1)\n",
    "grid_search.fit(X_train, y_train)\n",
    "\n",
    "best_params = grid_search.best_params_\n",
    "\n",
    "best_params"
   ]
  },
  {
   "cell_type": "code",
   "execution_count": 14,
   "id": "7f928e93",
   "metadata": {},
   "outputs": [
    {
     "data": {
      "text/plain": [
       "(np.float64(555573.619994382),\n",
       " np.float64(745.3681103953818),\n",
       " 0.9313806879071653)"
      ]
     },
     "execution_count": 14,
     "metadata": {},
     "output_type": "execute_result"
    }
   ],
   "source": [
    "random_forest_model = RandomForestRegressor(random_state=42, n_estimators=250, max_depth=9, min_samples_leaf=2, min_samples_split=6)\n",
    "random_forest_model.fit(X_train, y_train)\n",
    "\n",
    "predictions = random_forest_model.predict(X_test)\n",
    "\n",
    "model_mse = mean_squared_error(y_test, predictions)\n",
    "model_rmse = np.sqrt(model_mse)\n",
    "model_r2 = r2_score(y_test, predictions)\n",
    "\n",
    "model_mse, model_rmse, model_r2"
   ]
  },
  {
   "cell_type": "code",
   "execution_count": 382,
   "id": "97a39c79",
   "metadata": {},
   "outputs": [
    {
     "name": "stdout",
     "output_type": "stream",
     "text": [
      "Fitting 3 folds for each of 50 candidates, totalling 150 fits\n"
     ]
    },
    {
     "data": {
      "text/plain": [
       "{'subsample': 1.0,\n",
       " 'n_estimators': 300,\n",
       " 'max_depth': 2,\n",
       " 'learning_rate': 0.03,\n",
       " 'gamma': 1,\n",
       " 'colsample_bytree': 1.0}"
      ]
     },
     "execution_count": 382,
     "metadata": {},
     "output_type": "execute_result"
    }
   ],
   "source": [
    "xgb_params = {\n",
    "    'n_estimators': [100, 150, 200, 250, 300],\n",
    "    'max_depth': [2, 3, 5, 7, 10],\n",
    "    'learning_rate': [0.01, 0.03, 0.05, 0.06, 0.07],\n",
    "    'subsample': [0.6, 0.8, 1.0],\n",
    "    'colsample_bytree': [0.6, 0.8, 1.0],\n",
    "    'gamma': [0, 1, 5]\n",
    "}\n",
    "\n",
    "xgboost_model = XGBRegressor(random_state=42, objective='reg:squarederror')\n",
    "\n",
    "xgboost_random_search = RandomizedSearchCV(\n",
    "    estimator=xgboost_model,\n",
    "    param_distributions=xgb_params,\n",
    "    n_iter=50,\n",
    "    cv=3,\n",
    "    scoring='neg_mean_squared_error',\n",
    "    verbose=1,\n",
    "    n_jobs=-1,\n",
    "    random_state=42\n",
    ")\n",
    "\n",
    "xgboost_random_search.fit(X_train, y_train)\n",
    "\n",
    "best_params_xgb = xgboost_random_search.best_params_\n",
    "\n",
    "best_params_xgb\n"
   ]
  },
  {
   "cell_type": "code",
   "execution_count": 12,
   "id": "802470ba",
   "metadata": {},
   "outputs": [
    {
     "data": {
      "text/plain": [
       "(np.float64(1224574.512021412),\n",
       " np.float64(1106.6049484894834),\n",
       " 0.8487518888636619)"
      ]
     },
     "execution_count": 12,
     "metadata": {},
     "output_type": "execute_result"
    }
   ],
   "source": [
    "xgboost_model = XGBRegressor(random_state=42, n_estimators=300, learning_rate=0.03, subsample=1.0, max_depth= 2, gamma= 1, colsample_bytree=1)\n",
    "xgboost_model.fit(X_train, y_train)\n",
    "\n",
    "xgboost_predictions = xgboost_model.predict(X_test)\n",
    "\n",
    "xgboost_mse = mean_squared_error(y_test, xgboost_predictions)\n",
    "xgboost_rmse = np.sqrt(xgboost_mse)\n",
    "xgboost_r2 = r2_score(y_test, xgboost_predictions)\n",
    "\n",
    "xgboost_mse, xgboost_rmse, xgboost_r2\n"
   ]
  },
  {
   "cell_type": "code",
   "execution_count": null,
   "id": "084ed91d",
   "metadata": {},
   "outputs": [],
   "source": []
  }
 ],
 "metadata": {
  "kernelspec": {
   "display_name": "myenv",
   "language": "python",
   "name": "python3"
  },
  "language_info": {
   "codemirror_mode": {
    "name": "ipython",
    "version": 3
   },
   "file_extension": ".py",
   "mimetype": "text/x-python",
   "name": "python",
   "nbconvert_exporter": "python",
   "pygments_lexer": "ipython3",
   "version": "3.12.7"
  }
 },
 "nbformat": 4,
 "nbformat_minor": 5
}
