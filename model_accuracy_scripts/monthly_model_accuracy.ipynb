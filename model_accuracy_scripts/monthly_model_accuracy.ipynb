{
 "cells": [
  {
   "cell_type": "code",
   "execution_count": 184,
   "id": "b96fcf14-dc99-4679-9e7c-fce2563993da",
   "metadata": {},
   "outputs": [],
   "source": [
    "import pandas as pd\n",
    "import numpy as np\n",
    "import warnings\n",
    "from sklearn.preprocessing import OneHotEncoder\n",
    "from sklearn.metrics import mean_squared_error, r2_score\n",
    "from sklearn.ensemble import RandomForestRegressor\n",
    "from sklearn.model_selection import GridSearchCV\n",
    "from sklearn.model_selection import RandomizedSearchCV\n",
    "from sklearn.model_selection import train_test_split\n",
    "from xgboost import XGBRegressor\n",
    "\n",
    "warnings.filterwarnings('ignore')\n",
    "pd.set_option('display.float_format', '{:.2f}'.format)"
   ]
  },
  {
   "cell_type": "code",
   "execution_count": 185,
   "id": "81bc8aef",
   "metadata": {},
   "outputs": [],
   "source": [
    "file_name ='original_sales_data.csv'\n",
    "\n",
    "try:\n",
    "    df = pd.read_csv(r\"C:\\Users\\JASWANTH REDDY\\OneDrive\\Desktop\\Projects\\Demand_Forecasting_Thesis\\data\\original_sales_data.csv\")\n",
    "except:\n",
    "    print(\"Provided file name not found in the local!\")\n",
    "    raise Exception('FileNotFoundError')"
   ]
  },
  {
   "cell_type": "code",
   "execution_count": 186,
   "id": "db1aec9a",
   "metadata": {},
   "outputs": [],
   "source": [
    "df = df.loc[:, ~df.columns.str.startswith('Unnamed')]\n",
    "df['order_date'] = pd.to_datetime(df['order_date'], format='%d-%b-%y')"
   ]
  },
  {
   "cell_type": "markdown",
   "id": "440de1e2",
   "metadata": {},
   "source": [
    "Extract some features from date attribute"
   ]
  },
  {
   "cell_type": "code",
   "execution_count": 187,
   "id": "af99b4a4",
   "metadata": {},
   "outputs": [],
   "source": [
    "df['year'] = df['order_date'].dt.year\n",
    "df['month'] = df['order_date'].dt.month"
   ]
  },
  {
   "cell_type": "code",
   "execution_count": 188,
   "id": "2645afec",
   "metadata": {},
   "outputs": [],
   "source": [
    "monthly_sales = df.groupby(['sku_id','warehouse_id','year','month'])['order_quantity'].sum().reset_index()\n",
    "monthly_sales = monthly_sales.sort_values(by=['year','month'])"
   ]
  },
  {
   "cell_type": "code",
   "execution_count": 189,
   "id": "b79ee1eb",
   "metadata": {},
   "outputs": [],
   "source": [
    "monthly_sales['lag_1'] = monthly_sales.groupby(['sku_id','warehouse_id'])['order_quantity'].shift(1)\n",
    "monthly_sales['lag_2'] = monthly_sales.groupby(['sku_id','warehouse_id'])['order_quantity'].shift(2)\n",
    "monthly_sales['rolling_avg_3_months'] = monthly_sales.groupby(['sku_id','warehouse_id'])['order_quantity'].transform(lambda x: x.rolling(window=3).mean())\n",
    "monthly_sales['cumulative_sum'] = monthly_sales.groupby(['sku_id','warehouse_id'])['order_quantity'].cumsum()\n",
    "\n",
    "# Removing events that have NaN values\n",
    "sku_monthly_sales = monthly_sales.dropna(subset=['lag_1', 'lag_2', 'rolling_avg_3_months', 'cumulative_sum'])"
   ]
  },
  {
   "cell_type": "markdown",
   "id": "670b9cb6",
   "metadata": {},
   "source": [
    "This function convert object data type categorical columns into integer type columns."
   ]
  },
  {
   "cell_type": "code",
   "execution_count": 190,
   "id": "e0c94b9c",
   "metadata": {},
   "outputs": [],
   "source": [
    "def oneHotEncoding(df, index_column):\n",
    "    df=df.set_index(index_column)\n",
    "    \n",
    "    categorical_cols = df.select_dtypes(include=['object']).columns.tolist()\n",
    "\n",
    "    encoder = OneHotEncoder(sparse_output=False)\n",
    "    one_hot_encoded_categorical = encoder.fit_transform(df[categorical_cols])\n",
    "    one_hot_df = pd.DataFrame(one_hot_encoded_categorical, columns=encoder.get_feature_names_out(categorical_cols))\n",
    "    \n",
    "    one_hot_encoded = pd.concat([df.reset_index(),one_hot_df], axis=1)\n",
    "    one_hot_encoded = one_hot_encoded.drop(categorical_cols, axis=1)\n",
    "    df = one_hot_encoded.set_index(index_column)\n",
    "\n",
    "    return df\n",
    "\n",
    "data = oneHotEncoding(sku_monthly_sales, 'sku_id')"
   ]
  },
  {
   "cell_type": "code",
   "execution_count": 191,
   "id": "a19edb76",
   "metadata": {},
   "outputs": [],
   "source": [
    "X = data.drop(columns= ['order_quantity'])\n",
    "y = data['order_quantity']"
   ]
  },
  {
   "cell_type": "markdown",
   "id": "0481f7d4",
   "metadata": {},
   "source": [
    "Spliting data: 75% as train data and 25% as test data"
   ]
  },
  {
   "cell_type": "code",
   "execution_count": 192,
   "id": "0fce7bdc",
   "metadata": {},
   "outputs": [],
   "source": [
    "split_ratio = 0.75\n",
    "split_index = int(len(data) * split_ratio)"
   ]
  },
  {
   "cell_type": "code",
   "execution_count": 193,
   "id": "24305bc2",
   "metadata": {},
   "outputs": [],
   "source": [
    "X_train = X.iloc[:split_index] \n",
    "y_train = y.iloc[:split_index] \n",
    "\n",
    "X_test = X.iloc[split_index:]\n",
    "y_test = y.iloc[split_index:]  "
   ]
  },
  {
   "cell_type": "markdown",
   "id": "5d02a625",
   "metadata": {},
   "source": [
    "Fine tuning the model to get the most suitable hyperparameters for the model"
   ]
  },
  {
   "cell_type": "code",
   "execution_count": 159,
   "id": "10204ac5",
   "metadata": {},
   "outputs": [
    {
     "name": "stdout",
     "output_type": "stream",
     "text": [
      "Fitting 3 folds for each of 560 candidates, totalling 1680 fits\n"
     ]
    },
    {
     "data": {
      "text/plain": [
       "{'max_depth': 9,\n",
       " 'min_samples_leaf': 1,\n",
       " 'min_samples_split': 6,\n",
       " 'n_estimators': 250}"
      ]
     },
     "execution_count": 159,
     "metadata": {},
     "output_type": "execute_result"
    }
   ],
   "source": [
    "params = {\n",
    "    'n_estimators': [100, 150, 200, 250, 300, 350, 400],\n",
    "    'max_depth': [2,3,5,7,9],\n",
    "    'min_samples_split': [6, 8, 10, 12],\n",
    "    'min_samples_leaf': [1, 2, 3, 4]\n",
    "}\n",
    "\n",
    "random_forest_model = RandomForestRegressor(random_state=42)\n",
    "\n",
    "grid_search = GridSearchCV(estimator=random_forest_model, scoring='neg_mean_squared_error', param_grid=params, cv=3, verbose=1, n_jobs=-1)\n",
    "grid_search.fit(X_train, y_train)\n",
    "\n",
    "best_params = grid_search.best_params_\n",
    "\n",
    "best_params"
   ]
  },
  {
   "cell_type": "code",
   "execution_count": 194,
   "id": "b64d1e0a",
   "metadata": {},
   "outputs": [
    {
     "data": {
      "text/plain": [
       "(np.float64(3344924.7273885757),\n",
       " np.float64(1828.9135374283212),\n",
       " 0.8595069467189429)"
      ]
     },
     "execution_count": 194,
     "metadata": {},
     "output_type": "execute_result"
    }
   ],
   "source": [
    "random_forest_model = RandomForestRegressor(random_state=42, n_estimators=250, max_depth=9, min_samples_leaf=1, min_samples_split=6)\n",
    "random_forest_model.fit(X_train, y_train)\n",
    "\n",
    "predictions = random_forest_model.predict(X_test)\n",
    "\n",
    "model_mse = mean_squared_error(y_test, predictions)\n",
    "model_rmse = np.sqrt(model_mse)\n",
    "model_r2 = r2_score(y_test, predictions)\n",
    "\n",
    "model_mse, model_rmse, model_r2"
   ]
  },
  {
   "cell_type": "markdown",
   "id": "3b46db38",
   "metadata": {},
   "source": []
  },
  {
   "cell_type": "code",
   "execution_count": null,
   "id": "97a39c79",
   "metadata": {},
   "outputs": [],
   "source": [
    "xgb_params = {\n",
    "    'n_estimators': [100, 150, 200, 250],\n",
    "    'max_depth': [2, 3, 5, 7, 10],\n",
    "    'learning_rate': [0.01, 0.05, 0.1, 0.2],\n",
    "    'subsample': [0.6, 0.8, 1.0],\n",
    "    'colsample_bytree': [0.6, 0.8, 1.0],\n",
    "    'gamma': [0, 1, 5]\n",
    "}\n",
    "\n",
    "xgboost_model = XGBRegressor(random_state=42, objective='reg:squarederror')\n",
    "\n",
    "xgboost_random_search = RandomizedSearchCV(\n",
    "    estimator=xgboost_model,\n",
    "    param_distributions=xgb_params,\n",
    "    n_iter=50,\n",
    "    cv=3,\n",
    "    scoring='neg_mean_squared_error',\n",
    "    verbose=1,\n",
    "    n_jobs=-1,\n",
    "    random_state=42\n",
    ")\n",
    "\n",
    "xgboost_random_search.fit(X_train, y_train)\n",
    "\n",
    "best_params_xgb = xgboost_random_search.best_params_\n",
    "\n",
    "best_params_xgb\n"
   ]
  },
  {
   "cell_type": "code",
   "execution_count": 183,
   "id": "802470ba",
   "metadata": {},
   "outputs": [
    {
     "data": {
      "text/plain": [
       "(np.float64(2844381.143029355),\n",
       " np.float64(1686.5293187577129),\n",
       " 0.811440227056152)"
      ]
     },
     "execution_count": 183,
     "metadata": {},
     "output_type": "execute_result"
    }
   ],
   "source": [
    "xgboost_model = XGBRegressor(random_state=42, n_estimators=200, learning_rate=0.05, subsample=0.8, max_depth= 2, gamma= 1, colsample_bytree=1)\n",
    "xgboost_model.fit(X_train, y_train)\n",
    "\n",
    "xgboost_predictions = xgboost_model.predict(X_test)\n",
    "\n",
    "xgboost_mse = mean_squared_error(y_test, xgboost_predictions)\n",
    "xgboost_rmse = np.sqrt(xgboost_mse)\n",
    "xgboost_r2 = r2_score(y_test, xgboost_predictions)\n",
    "\n",
    "xgboost_mse, xgboost_rmse, xgboost_r2\n"
   ]
  },
  {
   "cell_type": "code",
   "execution_count": 18,
   "id": "e4886de8-104f-4baa-9af2-0b42eaa83eff",
   "metadata": {},
   "outputs": [],
   "source": []
  }
 ],
 "metadata": {
  "kernelspec": {
   "display_name": "myenv",
   "language": "python",
   "name": "python3"
  },
  "language_info": {
   "codemirror_mode": {
    "name": "ipython",
    "version": 3
   },
   "file_extension": ".py",
   "mimetype": "text/x-python",
   "name": "python",
   "nbconvert_exporter": "python",
   "pygments_lexer": "ipython3",
   "version": "3.12.7"
  }
 },
 "nbformat": 4,
 "nbformat_minor": 5
}
